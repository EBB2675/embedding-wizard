{
 "cells": [
  {
   "cell_type": "code",
   "execution_count": 1,
   "id": "adc2511e-c16e-464e-a520-ed737c5dd43b",
   "metadata": {},
   "outputs": [
    {
     "data": {
      "application/vnd.jupyter.widget-view+json": {
       "model_id": "bcfb537828b94c1ca56eca91426e6aef",
       "version_major": 2,
       "version_minor": 0
      },
      "text/plain": []
     },
     "metadata": {},
     "output_type": "display_data"
    }
   ],
   "source": [
    "import sys\n",
    "import os\n",
    "import ipywidgets as widgets\n",
    "from IPython.display import display, HTML\n",
    "\n",
    "sys.path.append(os.path.join(os.getcwd(), '..', 'src'))\n",
    "\n",
    "# Now import the SupercellCreator class\n",
    "from supercell_creator import SupercellCreator\n",
    "from user_selection import UserDefinedQCRegion\n",
    "from utils import visualize_atoms"
   ]
  },
  {
   "cell_type": "code",
   "execution_count": 2,
   "id": "08dd680d-1546-4c25-9e47-c7d8a39ba044",
   "metadata": {},
   "outputs": [
    {
     "name": "stderr",
     "output_type": "stream",
     "text": [
      "/Users/esmaboydas/Desktop/side_projects/embedding-wizard/.pyenv/lib/python3.12/site-packages/ase/io/cif.py:408: UserWarning: crystal system 'orthorhombic' is not interpreted for space group Spacegroup(29, setting=1). This may result in wrong setting!\n",
      "  warnings.warn(\n"
     ]
    }
   ],
   "source": [
    "# Define the path to the CIF file\n",
    "cif_file_path = os.path.join(os.getcwd(), '..', 'data', 'ZrCl4.cif')\n",
    "xyz_file_path = os.path.join(os.getcwd(), '..', 'data', 'ZrCl4_cut.xyz')\n",
    "\n",
    "\n",
    "\n",
    "# Create an instance of SupercellCreator\n",
    "supercell_creator = SupercellCreator(cif_file_path, 8, 6, 4)\n",
    "\n",
    "# Create an example dictionary of atomic charges \n",
    "# Note that  they will later be optimized according to the total subregion charges\n",
    "charge_dict = {\n",
    "        'Zr': +4,\n",
    "        'Cl': -1\n",
    "    }"
   ]
  },
  {
   "cell_type": "code",
   "execution_count": null,
   "id": "bbe99c43-a40e-4c9c-b37d-260241d6842d",
   "metadata": {},
   "outputs": [],
   "source": [
    "qc_atoms, ecp_atoms, pc_atoms = supercell_creator.get_atoms_in_layers(charge_dict)"
   ]
  },
  {
   "cell_type": "code",
   "execution_count": null,
   "id": "2ec74fc6-9355-4b71-bacf-c8593f57fa9b",
   "metadata": {},
   "outputs": [],
   "source": [
    "view_qc, view_ecp, view_pc = visualize_atoms(qc_atoms, ecp_atoms, pc_atoms)\n",
    "\n",
    "# Now display the views\n",
    "display(view_qc, view_ecp, view_pc)\n",
    "\n",
    "# Output the counts\n",
    "print(f\"QC region: {len(qc_atoms)} atoms\")\n",
    "print(f\"ECP region: {len(ecp_atoms)} atoms\")\n",
    "print(f\"PC region: {len(pc_atoms)} atoms\")\n"
   ]
  },
  {
   "cell_type": "code",
   "execution_count": null,
   "id": "4ab4189f-3213-4ef9-98be-22e3751e9357",
   "metadata": {},
   "outputs": [],
   "source": [
    "creator2 = SupercellCreator(cif_file=cif_file_path)\n"
   ]
  },
  {
   "cell_type": "code",
   "execution_count": null,
   "id": "2f04bc0e-25b4-4e5c-818e-25bd18e382c2",
   "metadata": {},
   "outputs": [],
   "source": [
    "view_widget = creator2.display_unit_cell()\n",
    "view_widget"
   ]
  },
  {
   "cell_type": "markdown",
   "id": "6e3b5178-9c4b-4a9d-a87b-b9b31c01074d",
   "metadata": {},
   "source": [
    "# Isolate a better QC region\n",
    "\n",
    "Periodic boundaries might be clipping part of the molecule, create a 2x2x2 supercell first."
   ]
  },
  {
   "cell_type": "code",
   "execution_count": null,
   "id": "c718f38b-1f02-43e2-8896-c524a3a68cc0",
   "metadata": {},
   "outputs": [],
   "source": [
    "creator3 = SupercellCreator(cif_file_path, 5,5,5)\n",
    "creator3.display_expanded_isolated_molecule(center_atom_symbol='Zr')"
   ]
  },
  {
   "cell_type": "code",
   "execution_count": null,
   "id": "68ab03c3-7e23-4c5b-9938-ef072f9d50f8",
   "metadata": {},
   "outputs": [],
   "source": [
    "# user_region = UserDefinedQCRegion('path/to/structure.cif', 'path/to/region.xyz')\n",
    "# user_region.read_xyz_to_atoms()\n",
    "# user_region.create_supercell(scaling_factors=(2, 2, 2))\n",
    "# user_region.classify_atoms(ecp_distance=2.5)\n",
    "# user_region.visualize_layers()\n",
    "\n",
    "user_selection = UserDefinedQCRegion(cif_file_path, xyz_file_path)\n",
    "\n"
   ]
  },
  {
   "cell_type": "code",
   "execution_count": null,
   "id": "a01e5ca8-fc51-4833-a1e4-a97150082bc8",
   "metadata": {},
   "outputs": [],
   "source": [
    "\n",
    "user_selection.read_xyz_to_atoms()\n",
    "user_selection.create_supercell(scaling_factors=(8, 8, 4))\n",
    "\n",
    "# Fix here a bit:\n",
    "user_selection.classify_atoms(ecp_distance=8.0)\n",
    "\n",
    "# Get the regions\n",
    "qc_atoms, ecp_atoms, pc_atoms = user_selection.get_regions()\n",
    "\n",
    "\n",
    "view_qc, view_ecp, view_pc = visualize_atoms(qc_atoms, ecp_atoms, pc_atoms)\n",
    "\n",
    "# Now display the views\n",
    "display(view_qc, view_ecp, view_pc)\n",
    "\n",
    "# Output the counts\n",
    "print(f\"QC region: {len(qc_atoms)} atoms\")\n",
    "print(f\"ECP region: {len(ecp_atoms)} atoms\")\n",
    "print(f\"PC region: {len(pc_atoms)} atoms\")\n"
   ]
  },
  {
   "cell_type": "code",
   "execution_count": null,
   "id": "3fa69bd1-87f9-49d8-a31b-30f8ff0ea24c",
   "metadata": {},
   "outputs": [],
   "source": []
  },
  {
   "cell_type": "code",
   "execution_count": null,
   "id": "9ae2f0f5-fa6c-460f-99ba-a99a0c87dbfe",
   "metadata": {},
   "outputs": [],
   "source": [
    "# Initialize the SupercellCreator\n",
    "supercell = SupercellCreator(cif_file_path, 8,8,4)\n",
    "\n",
    "# Check the atoms in the supercell\n",
    "print(\"Atoms in the supercell:\", [atom.symbol for atom in supercell.supercell])\n",
    "print(\"Supercell dimensions:\", supercell.supercell.get_cell())\n",
    "\n",
    "# Attempt to display the isolated molecule\n",
    "isolated_molecule = supercell.isolate_unit_molecule(center_atom_symbol='Zr', bonded_symbol='Cl', bonding_threshold=2.7, exact_bonded_atoms=4)\n",
    "\n",
    "# Debugging outputs\n",
    "if isolated_molecule is not None:\n",
    "    print(f\"Found isolated molecule with {len(isolated_molecule)} atoms.\")\n",
    "else:\n",
    "    print(\"No isolated molecule found.\")"
   ]
  },
  {
   "cell_type": "code",
   "execution_count": null,
   "id": "de4bada4-c961-4703-b61e-a507a43b56e2",
   "metadata": {},
   "outputs": [],
   "source": [
    "# Define the path to the CIF file\n",
    "cif_file_path = os.path.join(os.getcwd(), '..', 'data', 'ZrCl4.cif')\n",
    "xyz_file_path = os.path.join(os.getcwd(), '..', 'data', 'ZrCl4_cut.xyz')\n"
   ]
  },
  {
   "cell_type": "code",
   "execution_count": 3,
   "id": "c383f2b0-4601-4db8-9f19-f176249b8c77",
   "metadata": {},
   "outputs": [
    {
     "name": "stdout",
     "output_type": "stream",
     "text": [
      "QC region loaded with 10 atoms.\n",
      "Supercell created with 5120 atoms.\n",
      "QC region centered at: [25.048      29.608      23.47388298]. Remaining supercell atoms: 5118.\n",
      "Warning: Total classified atoms (5109) do not match supercell size (5118).\n",
      "Adding missing atoms to PC region.\n",
      "QC region: 10 atoms, ECP region: 170 atoms, PC region: 4938 atoms.\n"
     ]
    },
    {
     "data": {
      "application/vnd.jupyter.widget-view+json": {
       "model_id": "cd640c7695a245a58151bc23359f572b",
       "version_major": 2,
       "version_minor": 0
      },
      "text/plain": [
       "NGLWidget()"
      ]
     },
     "metadata": {},
     "output_type": "display_data"
    },
    {
     "data": {
      "application/vnd.jupyter.widget-view+json": {
       "model_id": "304357d9bda24757ba0d1aa5c5e93606",
       "version_major": 2,
       "version_minor": 0
      },
      "text/plain": [
       "NGLWidget()"
      ]
     },
     "metadata": {},
     "output_type": "display_data"
    },
    {
     "data": {
      "application/vnd.jupyter.widget-view+json": {
       "model_id": "f2ed92650fad41779b58c6c3d1d1da05",
       "version_major": 2,
       "version_minor": 0
      },
      "text/plain": [
       "NGLWidget()"
      ]
     },
     "metadata": {},
     "output_type": "display_data"
    },
    {
     "name": "stdout",
     "output_type": "stream",
     "text": [
      "QC region: 10 atoms\n",
      "ECP region: 170 atoms\n",
      "PC region: 4938 atoms\n"
     ]
    }
   ],
   "source": [
    "# Initialize the UserDefinedQCRegion\n",
    "user_selection = UserDefinedQCRegion(cif_file=cif_file_path, xyz_file=xyz_file_path)\n",
    "\n",
    "# Step 1: Load QC region and supercell\n",
    "user_selection.read_xyz_to_atoms()\n",
    "user_selection.create_supercell(scaling_factors=(8, 8, 4))\n",
    "\n",
    "# Step 2: Classify atoms into QC, ECP, and PC layers\n",
    "user_selection.classify_atoms(ecp_inner_radius=3.0, ecp_outer_radius=8.0)\n",
    "\n",
    "# Step 3: Get classified regions\n",
    "qc_atoms, ecp_atoms, pc_atoms = user_selection.get_regions()\n",
    "\n",
    "# Step 4: Visualize regions\n",
    "view_qc, view_ecp, view_pc = user_selection.visualize_regions()\n",
    "display(view_qc, view_ecp, view_pc)\n",
    "\n",
    "# Output atom counts\n",
    "print(f\"QC region: {len(qc_atoms)} atoms\")\n",
    "print(f\"ECP region: {len(ecp_atoms)} atoms\")\n",
    "print(f\"PC region: {len(pc_atoms)} atoms\")"
   ]
  },
  {
   "cell_type": "code",
   "execution_count": null,
   "id": "bdbe6cd7-278d-431a-9062-4c2c4e8ebe44",
   "metadata": {},
   "outputs": [],
   "source": []
  }
 ],
 "metadata": {
  "kernelspec": {
   "display_name": "Python 3 (ipykernel)",
   "language": "python",
   "name": "python3"
  },
  "language_info": {
   "codemirror_mode": {
    "name": "ipython",
    "version": 3
   },
   "file_extension": ".py",
   "mimetype": "text/x-python",
   "name": "python",
   "nbconvert_exporter": "python",
   "pygments_lexer": "ipython3",
   "version": "3.12.7"
  }
 },
 "nbformat": 4,
 "nbformat_minor": 5
}
