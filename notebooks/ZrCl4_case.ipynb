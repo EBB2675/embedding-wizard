{
 "cells": [
  {
   "cell_type": "code",
   "execution_count": 1,
   "id": "5a5d24c6-3370-4e0f-b94a-8f6961f49928",
   "metadata": {},
   "outputs": [
    {
     "data": {
      "application/vnd.jupyter.widget-view+json": {
       "model_id": "fee8cb202e1049d6a2afa3ef6fbedf3e",
       "version_major": 2,
       "version_minor": 0
      },
      "text/plain": []
     },
     "metadata": {},
     "output_type": "display_data"
    }
   ],
   "source": [
    "import sys\n",
    "import os\n",
    "import ipywidgets as widgets\n",
    "from IPython.display import display, HTML\n",
    "\n",
    "sys.path.append(os.path.join(os.getcwd(), '..', 'src'))\n",
    "\n",
    "from zrcl4_case import QCExtractor\n",
    "from utils import visualize_atoms"
   ]
  },
  {
   "cell_type": "code",
   "execution_count": 2,
   "id": "ea4a85de-ce24-427d-b311-4dc897c2ef1b",
   "metadata": {},
   "outputs": [],
   "source": [
    "cif_file_path = os.path.join(os.getcwd(), '..', 'data', 'ZrCl4.cif')\n",
    "\n",
    "#maybe necessary later\n",
    "charge_dict = {\n",
    "        'Zr': +4,\n",
    "        'Cl': -1\n",
    "    }\n"
   ]
  },
  {
   "cell_type": "code",
   "execution_count": 3,
   "id": "7d57a87b-9e86-4187-a0c7-3ca974b526b4",
   "metadata": {},
   "outputs": [
    {
     "name": "stdout",
     "output_type": "stream",
     "text": [
      "Supercell created with 2880 atoms.\n",
      "QC region extracted with 7 atoms.\n",
      "QC region centered at [19.26334165 24.91267705 24.0739277 ].\n",
      "QC indices: 7, ECP indices: 55, PC indices: 2818\n",
      "QC & ECP overlap: 0, ECP & PC overlap: 0\n",
      "QC region: 7 atoms, ECP layer: 55 atoms, PC layer: 2818 atoms.\n"
     ]
    },
    {
     "name": "stderr",
     "output_type": "stream",
     "text": [
      "/Users/esmaboydas/Desktop/side_projects/embedding-wizard/.pyenv/lib/python3.12/site-packages/ase/io/cif.py:408: UserWarning: crystal system 'orthorhombic' is not interpreted for space group Spacegroup(29, setting=1). This may result in wrong setting!\n",
      "  warnings.warn(\n"
     ]
    },
    {
     "data": {
      "application/vnd.jupyter.widget-view+json": {
       "model_id": "26981186272341c38b0e050be84d426e",
       "version_major": 2,
       "version_minor": 0
      },
      "text/plain": [
       "NGLWidget()"
      ]
     },
     "metadata": {},
     "output_type": "display_data"
    },
    {
     "data": {
      "application/vnd.jupyter.widget-view+json": {
       "model_id": "56f549e367f946a189b430642cabe94a",
       "version_major": 2,
       "version_minor": 0
      },
      "text/plain": [
       "NGLWidget()"
      ]
     },
     "metadata": {},
     "output_type": "display_data"
    },
    {
     "data": {
      "application/vnd.jupyter.widget-view+json": {
       "model_id": "f11ed95558d54590adbfca5e46766218",
       "version_major": 2,
       "version_minor": 0
      },
      "text/plain": [
       "NGLWidget()"
      ]
     },
     "metadata": {},
     "output_type": "display_data"
    },
    {
     "name": "stdout",
     "output_type": "stream",
     "text": [
      "QC region: 7 atoms\n",
      "ECP layer: 55 atoms\n",
      "PC layer: 2818 atoms\n"
     ]
    }
   ],
   "source": [
    "extractor = QCExtractor(cif_file=cif_file_path)\n",
    "\n",
    "# Create supercell\n",
    "extractor.create_supercell(scaling_factors=(6, 6, 4))\n",
    "\n",
    "# Extract QC region (specifically ZrCl6!!!!!)\n",
    "extractor.extract_qc_region()\n",
    "\n",
    "# Assign ECP and PC layers\n",
    "extractor.assign_layers(ecp_radius=6.0)\n",
    "\n",
    "# Get regions\n",
    "qc_atoms, ecp_atoms, pc_atoms = extractor.get_regions()\n",
    "\n",
    "# Visualize\n",
    "view_qc, view_ecp, view_pc = extractor.visualize_regions()\n",
    "display(view_qc, view_ecp, view_pc)\n",
    "\n",
    "# Print counts\n",
    "print(f\"QC region: {len(qc_atoms)} atoms\")\n",
    "print(f\"ECP layer: {len(ecp_atoms)} atoms\")\n",
    "print(f\"PC layer: {len(pc_atoms)} atoms\")\n"
   ]
  },
  {
   "cell_type": "code",
   "execution_count": null,
   "id": "6a473b91-54a5-46f1-b0f2-7b9c0e0915b5",
   "metadata": {},
   "outputs": [],
   "source": []
  }
 ],
 "metadata": {
  "kernelspec": {
   "display_name": "Python 3 (ipykernel)",
   "language": "python",
   "name": "python3"
  },
  "language_info": {
   "codemirror_mode": {
    "name": "ipython",
    "version": 3
   },
   "file_extension": ".py",
   "mimetype": "text/x-python",
   "name": "python",
   "nbconvert_exporter": "python",
   "pygments_lexer": "ipython3",
   "version": "3.12.7"
  }
 },
 "nbformat": 4,
 "nbformat_minor": 5
}
