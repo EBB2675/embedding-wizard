{
 "cells": [
  {
   "cell_type": "code",
   "execution_count": 9,
   "id": "adc2511e-c16e-464e-a520-ed737c5dd43b",
   "metadata": {},
   "outputs": [],
   "source": [
    "import sys\n",
    "import os\n",
    "import ipywidgets as widgets\n",
    "from IPython.display import display, HTML\n",
    "\n",
    "sys.path.append(os.path.join(os.getcwd(), '..', 'src'))\n",
    "\n",
    "# Now import the SupercellCreator class\n",
    "from supercell_creator import SupercellCreator\n",
    "from user_selection import UserDefinedQCRegion\n",
    "from utils import visualize_atoms"
   ]
  },
  {
   "cell_type": "code",
   "execution_count": 13,
   "id": "08dd680d-1546-4c25-9e47-c7d8a39ba044",
   "metadata": {},
   "outputs": [],
   "source": [
    "# Define the path to the CIF file\n",
    "cif_file_path = os.path.join(os.getcwd(), '..', 'data', 'ZrCl4.cif')\n",
    "xyz_file_path = os.path.join(os.getcwd(), '..', 'data', 'ZrCl4_cut.xyz')\n",
    "\n",
    "\n",
    "\n",
    "# Create an instance of SupercellCreator\n",
    "supercell_creator = SupercellCreator(cif_file_path, 8, 8, 4)\n"
   ]
  },
  {
   "cell_type": "code",
   "execution_count": 11,
   "id": "64af5119-bd59-45fd-a504-403791cd3719",
   "metadata": {},
   "outputs": [],
   "source": [
    "charge_dict = {\n",
    "        'Zr': +4,\n",
    "        'Cl': -1\n",
    "    }"
   ]
  },
  {
   "cell_type": "code",
   "execution_count": 12,
   "id": "bbe99c43-a40e-4c9c-b37d-260241d6842d",
   "metadata": {},
   "outputs": [
    {
     "name": "stdout",
     "output_type": "stream",
     "text": [
      "Initial QC Charge: -2\n",
      "Removed negatively charged atom: Cl\n",
      "Removed negatively charged atom: Cl\n",
      "Removed negatively charged atoms. New QC Charge: 0\n",
      "Final QC Charge after adjustments: 0\n",
      "QC layer: 30 atoms, Charge: 0, Composition: {'Zr': 6, 'Cl': 24}\n",
      "ECP layer: 211 atoms, Composition: {'Cl': 169, 'Zr': 42}\n",
      "PC layer: 4877 atoms, Composition: {'Zr': 976, 'Cl': 3901}\n"
     ]
    }
   ],
   "source": [
    "qc_atoms, ecp_atoms, pc_atoms = supercell_creator.get_atoms_in_layers(charge_dict)"
   ]
  },
  {
   "cell_type": "code",
   "execution_count": 5,
   "id": "2ec74fc6-9355-4b71-bacf-c8593f57fa9b",
   "metadata": {},
   "outputs": [
    {
     "data": {
      "application/vnd.jupyter.widget-view+json": {
       "model_id": "5758a2cc2ebe4e6ebce77a5c0d5b460f",
       "version_major": 2,
       "version_minor": 0
      },
      "text/plain": [
       "NGLWidget()"
      ]
     },
     "metadata": {},
     "output_type": "display_data"
    },
    {
     "data": {
      "application/vnd.jupyter.widget-view+json": {
       "model_id": "413ee6e0a5e64055a3775c99b534b394",
       "version_major": 2,
       "version_minor": 0
      },
      "text/plain": [
       "NGLWidget()"
      ]
     },
     "metadata": {},
     "output_type": "display_data"
    },
    {
     "data": {
      "application/vnd.jupyter.widget-view+json": {
       "model_id": "697dbad98e854ef3a2018a8554336b57",
       "version_major": 2,
       "version_minor": 0
      },
      "text/plain": [
       "NGLWidget()"
      ]
     },
     "metadata": {},
     "output_type": "display_data"
    },
    {
     "name": "stdout",
     "output_type": "stream",
     "text": [
      "QC region: 30 atoms\n",
      "ECP region: 211 atoms\n",
      "PC region: 4877 atoms\n"
     ]
    }
   ],
   "source": [
    "view_qc, view_ecp, view_pc = visualize_atoms(qc_atoms, ecp_atoms, pc_atoms)\n",
    "\n",
    "# Now display the views\n",
    "display(view_qc, view_ecp, view_pc)\n",
    "\n",
    "# Output the counts\n",
    "print(f\"QC region: {len(qc_atoms)} atoms\")\n",
    "print(f\"ECP region: {len(ecp_atoms)} atoms\")\n",
    "print(f\"PC region: {len(pc_atoms)} atoms\")\n"
   ]
  },
  {
   "cell_type": "code",
   "execution_count": 6,
   "id": "4ab4189f-3213-4ef9-98be-22e3751e9357",
   "metadata": {},
   "outputs": [],
   "source": [
    "creator2 = SupercellCreator(cif_file=cif_file_path)\n"
   ]
  },
  {
   "cell_type": "code",
   "execution_count": 7,
   "id": "2f04bc0e-25b4-4e5c-818e-25bd18e382c2",
   "metadata": {},
   "outputs": [
    {
     "name": "stdout",
     "output_type": "stream",
     "text": [
      "Displaying the original unit cell...\n"
     ]
    },
    {
     "data": {
      "application/vnd.jupyter.widget-view+json": {
       "model_id": "e0c10434a4d84c6fa4d0a98687ce8216",
       "version_major": 2,
       "version_minor": 0
      },
      "text/plain": [
       "NGLWidget()"
      ]
     },
     "metadata": {},
     "output_type": "display_data"
    }
   ],
   "source": [
    "view_widget = creator2.display_unit_cell()\n",
    "view_widget"
   ]
  },
  {
   "cell_type": "markdown",
   "id": "6e3b5178-9c4b-4a9d-a87b-b9b31c01074d",
   "metadata": {},
   "source": [
    "# Isolate a better QC region\n",
    "\n",
    "Periodic boundaries might be clipping part of the molecule, create a 2x2x2 supercell first."
   ]
  },
  {
   "cell_type": "code",
   "execution_count": 8,
   "id": "c718f38b-1f02-43e2-8896-c524a3a68cc0",
   "metadata": {},
   "outputs": [
    {
     "name": "stdout",
     "output_type": "stream",
     "text": [
      "No tetrahedral structure found in this supercell. Retrying...\n",
      "No tetrahedral structure found in this supercell. Retrying...\n",
      "No tetrahedral structure found in this supercell. Retrying...\n",
      "No tetrahedral structure found in this supercell. Retrying...\n",
      "No tetrahedral structure found in this supercell. Retrying...\n",
      "No tetrahedral structure found in this supercell. Retrying...\n",
      "No tetrahedral structure found in this supercell. Retrying...\n",
      "No tetrahedral structure found in this supercell. Retrying...\n",
      "No tetrahedral structure found in this supercell. Retrying...\n",
      "No tetrahedral structure found in this supercell. Retrying...\n",
      "No tetrahedral structure found in this supercell. Retrying...\n",
      "No tetrahedral structure found in this supercell. Retrying...\n",
      "No tetrahedral structure found in this supercell. Retrying...\n",
      "No tetrahedral structure found in this supercell. Retrying...\n",
      "No tetrahedral structure found in this supercell. Retrying...\n",
      "No tetrahedral structure found in this supercell. Retrying...\n",
      "No tetrahedral structure found in this supercell. Retrying...\n",
      "No tetrahedral structure found in this supercell. Retrying...\n",
      "No tetrahedral structure found in this supercell. Retrying...\n",
      "No tetrahedral structure found in this supercell. Retrying...\n",
      "No tetrahedral structure found in this supercell. Retrying...\n",
      "No tetrahedral structure found in this supercell. Retrying...\n",
      "No tetrahedral structure found in this supercell. Retrying...\n",
      "No tetrahedral structure found in this supercell. Retrying...\n",
      "No tetrahedral structure found in this supercell. Retrying...\n",
      "Maximum retries reached. No tetrahedral structure found.\n",
      "No isolated molecule found to display.\n"
     ]
    }
   ],
   "source": [
    "creator3 = SupercellCreator(cif_file_path, 3,3,3)\n",
    "creator3.display_expanded_isolated_molecule(center_atom_symbol='Zr')"
   ]
  },
  {
   "cell_type": "code",
   "execution_count": null,
   "id": "9ae2f0f5-fa6c-460f-99ba-a99a0c87dbfe",
   "metadata": {},
   "outputs": [],
   "source": [
    "# Initialize the SupercellCreator\n",
    "supercell = SupercellCreator(cif_file_path, 2,2,2)\n",
    "\n",
    "# Check the atoms in the supercell\n",
    "print(\"Atoms in the supercell:\", [atom.symbol for atom in supercell.supercell])\n",
    "print(\"Supercell dimensions:\", supercell.supercell.get_cell())\n",
    "\n",
    "# Attempt to display the isolated molecule\n",
    "isolated_molecule = supercell.isolate_unit_molecule(center_atom_symbol='Zr', bonded_symbol='Cl', bonding_threshold=2.7, exact_bonded_atoms=4)\n",
    "\n",
    "# Debugging outputs\n",
    "if isolated_molecule is not None:\n",
    "    print(f\"Found isolated molecule with {len(isolated_molecule)} atoms.\")\n",
    "else:\n",
    "    print(\"No isolated molecule found.\")"
   ]
  },
  {
   "cell_type": "code",
   "execution_count": 14,
   "id": "68ab03c3-7e23-4c5b-9938-ef072f9d50f8",
   "metadata": {},
   "outputs": [
    {
     "name": "stdout",
     "output_type": "stream",
     "text": [
      "Loaded XYZ file with 10 atoms.\n",
      "Loaded CIF structure with 20 atoms.\n"
     ]
    },
    {
     "ename": "KeyError",
     "evalue": "'PC'",
     "output_type": "error",
     "traceback": [
      "\u001b[0;31m---------------------------------------------------------------------------\u001b[0m",
      "\u001b[0;31mKeyError\u001b[0m                                  Traceback (most recent call last)",
      "Cell \u001b[0;32mIn[14], line 11\u001b[0m\n\u001b[1;32m      8\u001b[0m \u001b[38;5;66;03m# Check if the QC region was loaded successfully\u001b[39;00m\n\u001b[1;32m      9\u001b[0m \u001b[38;5;28;01mif\u001b[39;00m qc_atoms \u001b[38;5;129;01mis\u001b[39;00m \u001b[38;5;129;01mnot\u001b[39;00m \u001b[38;5;28;01mNone\u001b[39;00m:\n\u001b[1;32m     10\u001b[0m     \u001b[38;5;66;03m# Step 2: Match the QC region to the CIF structure and create ECP and PC layers\u001b[39;00m\n\u001b[0;32m---> 11\u001b[0m     full_structure \u001b[38;5;241m=\u001b[39m \u001b[43muser_selection\u001b[49m\u001b[38;5;241;43m.\u001b[39;49m\u001b[43mmatch_qc_region_to_cif\u001b[49m\u001b[43m(\u001b[49m\u001b[43mqc_atoms\u001b[49m\u001b[43m,\u001b[49m\u001b[43m \u001b[49m\u001b[43mcif_file_path\u001b[49m\u001b[43m)\u001b[49m\n\u001b[1;32m     13\u001b[0m     \u001b[38;5;66;03m# Optional: Display the final structure or perform further analysis\u001b[39;00m\n\u001b[1;32m     14\u001b[0m     \u001b[38;5;28mprint\u001b[39m(\u001b[38;5;124mf\u001b[39m\u001b[38;5;124m\"\u001b[39m\u001b[38;5;124mFinal structure contains \u001b[39m\u001b[38;5;132;01m{\u001b[39;00m\u001b[38;5;28mlen\u001b[39m(full_structure)\u001b[38;5;132;01m}\u001b[39;00m\u001b[38;5;124m atoms.\u001b[39m\u001b[38;5;124m\"\u001b[39m)\n",
      "File \u001b[0;32m~/Desktop/side_projects/embedding-wizard/notebooks/../src/user_selection.py:63\u001b[0m, in \u001b[0;36mUserDefinedQCRegion.match_qc_region_to_cif\u001b[0;34m(self, xyz_atoms, cif_file_path, ecp_distance)\u001b[0m\n\u001b[1;32m     61\u001b[0m             ecp_atoms\u001b[38;5;241m.\u001b[39mappend(Atom(symbol\u001b[38;5;241m=\u001b[39matom\u001b[38;5;241m.\u001b[39msymbol, position\u001b[38;5;241m=\u001b[39matom\u001b[38;5;241m.\u001b[39mposition))\n\u001b[1;32m     62\u001b[0m     \u001b[38;5;28;01melse\u001b[39;00m:\n\u001b[0;32m---> 63\u001b[0m         pc_atoms\u001b[38;5;241m.\u001b[39mappend(\u001b[43mAtom\u001b[49m\u001b[43m(\u001b[49m\u001b[43msymbol\u001b[49m\u001b[38;5;241;43m=\u001b[39;49m\u001b[38;5;124;43m'\u001b[39;49m\u001b[38;5;124;43mPC\u001b[39;49m\u001b[38;5;124;43m'\u001b[39;49m\u001b[43m,\u001b[49m\u001b[43m \u001b[49m\u001b[43mposition\u001b[49m\u001b[38;5;241;43m=\u001b[39;49m\u001b[43matom\u001b[49m\u001b[38;5;241;43m.\u001b[39;49m\u001b[43mposition\u001b[49m\u001b[43m)\u001b[49m)\n\u001b[1;32m     65\u001b[0m \u001b[38;5;66;03m# Combine QC, ECP, and PC atoms into a single Atoms object\u001b[39;00m\n\u001b[1;32m     66\u001b[0m combined_atoms \u001b[38;5;241m=\u001b[39m Atoms(qc_atoms \u001b[38;5;241m+\u001b[39m ecp_atoms \u001b[38;5;241m+\u001b[39m pc_atoms, cell\u001b[38;5;241m=\u001b[39mfull_structure\u001b[38;5;241m.\u001b[39mget_cell(), pbc\u001b[38;5;241m=\u001b[39m\u001b[38;5;28;01mTrue\u001b[39;00m)\n",
      "File \u001b[0;32m~/Desktop/side_projects/embedding-wizard/.pyenv/lib/python3.12/site-packages/ase/atom.py:94\u001b[0m, in \u001b[0;36mAtom.__init__\u001b[0;34m(self, symbol, position, tag, momentum, mass, magmom, charge, atoms, index)\u001b[0m\n\u001b[1;32m     91\u001b[0m \u001b[38;5;28;01mif\u001b[39;00m atoms \u001b[38;5;129;01mis\u001b[39;00m \u001b[38;5;28;01mNone\u001b[39;00m:\n\u001b[1;32m     92\u001b[0m     \u001b[38;5;66;03m# This atom is not part of any Atoms object:\u001b[39;00m\n\u001b[1;32m     93\u001b[0m     \u001b[38;5;28;01mif\u001b[39;00m \u001b[38;5;28misinstance\u001b[39m(symbol, \u001b[38;5;28mstr\u001b[39m):\n\u001b[0;32m---> 94\u001b[0m         d[\u001b[38;5;124m'\u001b[39m\u001b[38;5;124mnumber\u001b[39m\u001b[38;5;124m'\u001b[39m] \u001b[38;5;241m=\u001b[39m \u001b[43matomic_numbers\u001b[49m\u001b[43m[\u001b[49m\u001b[43msymbol\u001b[49m\u001b[43m]\u001b[49m\n\u001b[1;32m     95\u001b[0m     \u001b[38;5;28;01melse\u001b[39;00m:\n\u001b[1;32m     96\u001b[0m         d[\u001b[38;5;124m'\u001b[39m\u001b[38;5;124mnumber\u001b[39m\u001b[38;5;124m'\u001b[39m] \u001b[38;5;241m=\u001b[39m symbol\n",
      "\u001b[0;31mKeyError\u001b[0m: 'PC'"
     ]
    }
   ],
   "source": [
    "# Create an instance of your MolecularSystem class\n",
    "user_selection = UserDefinedQCRegion()\n",
    "\n",
    "\n",
    "# Step 1: Read the QC region from the XYZ file\n",
    "qc_atoms = user_selection.xyz_to_atoms(xyz_file_path)\n",
    "\n",
    "# Check if the QC region was loaded successfully\n",
    "if qc_atoms is not None:\n",
    "    # Step 2: Match the QC region to the CIF structure and create ECP and PC layers\n",
    "    full_structure = user_selection.match_qc_region_to_cif(qc_atoms, cif_file_path)\n",
    "    \n",
    "    # Optional: Display the final structure or perform further analysis\n",
    "    print(f\"Final structure contains {len(full_structure)} atoms.\")\n",
    "    print(full_structure)  # You can use visualization tools like ASE or other libraries to display this.\n",
    "else:\n",
    "    print(\"Failed to load QC region from the XYZ file.\")"
   ]
  },
  {
   "cell_type": "code",
   "execution_count": null,
   "id": "a01e5ca8-fc51-4833-a1e4-a97150082bc8",
   "metadata": {},
   "outputs": [],
   "source": []
  }
 ],
 "metadata": {
  "kernelspec": {
   "display_name": "Python 3 (ipykernel)",
   "language": "python",
   "name": "python3"
  },
  "language_info": {
   "codemirror_mode": {
    "name": "ipython",
    "version": 3
   },
   "file_extension": ".py",
   "mimetype": "text/x-python",
   "name": "python",
   "nbconvert_exporter": "python",
   "pygments_lexer": "ipython3",
   "version": "3.12.7"
  }
 },
 "nbformat": 4,
 "nbformat_minor": 5
}
