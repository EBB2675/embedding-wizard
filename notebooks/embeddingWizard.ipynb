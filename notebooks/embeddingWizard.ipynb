{
 "cells": [
  {
   "cell_type": "code",
   "execution_count": 2,
   "id": "adc2511e-c16e-464e-a520-ed737c5dd43b",
   "metadata": {},
   "outputs": [],
   "source": [
    "import sys\n",
    "import os\n",
    "from IPython.display import display\n",
    "import ipywidgets as widgets\n",
    "import nglview as nv\n",
    "from ase.io import write\n",
    "from ase.visualize import view\n",
    "from ase import Atoms\n",
    "from ase.io import read, write\n",
    "from ase.build import make_supercell\n",
    "import numpy as np\n",
    "import nglview as nv\n",
    "from IPython.display import display, HTML\n",
    "\n",
    "\n",
    "sys.path.append(os.path.join(os.getcwd(), '..', 'src'))\n",
    "\n",
    "# Now import the SupercellCreator class\n",
    "from supercell_creator import SupercellCreator\n",
    "from utils import visualize_atoms"
   ]
  },
  {
   "cell_type": "code",
   "execution_count": 3,
   "id": "08dd680d-1546-4c25-9e47-c7d8a39ba044",
   "metadata": {},
   "outputs": [],
   "source": [
    "# Define the path to the CIF file\n",
    "cif_file_path = os.path.join(os.getcwd(), '..', 'data', 'TiO2_mp-390_conventional_standard.cif')\n",
    "\n",
    "# Create an instance of SupercellCreator\n",
    "supercell_creator = SupercellCreator(cif_file_path, 8, 8, 4)\n"
   ]
  },
  {
   "cell_type": "code",
   "execution_count": 4,
   "id": "bbe99c43-a40e-4c9c-b37d-260241d6842d",
   "metadata": {},
   "outputs": [],
   "source": [
    "qc_atoms, ecp_atoms, pc_atoms = supercell_creator.get_atoms_in_layers()"
   ]
  },
  {
   "cell_type": "code",
   "execution_count": 5,
   "id": "2ec74fc6-9355-4b71-bacf-c8593f57fa9b",
   "metadata": {},
   "outputs": [
    {
     "data": {
      "application/vnd.jupyter.widget-view+json": {
       "model_id": "87aa17537ed14d049208c65df751758d",
       "version_major": 2,
       "version_minor": 0
      },
      "text/plain": [
       "NGLWidget()"
      ]
     },
     "metadata": {},
     "output_type": "display_data"
    },
    {
     "data": {
      "application/vnd.jupyter.widget-view+json": {
       "model_id": "91cc0bf317d142f4bae2d29a3e1aaf6f",
       "version_major": 2,
       "version_minor": 0
      },
      "text/plain": [
       "NGLWidget()"
      ]
     },
     "metadata": {},
     "output_type": "display_data"
    },
    {
     "data": {
      "application/vnd.jupyter.widget-view+json": {
       "model_id": "a062c8522d494dfda4230468454b39b6",
       "version_major": 2,
       "version_minor": 0
      },
      "text/plain": [
       "NGLWidget()"
      ]
     },
     "metadata": {},
     "output_type": "display_data"
    }
   ],
   "source": [
    "view_qc, view_ecp, view_pc = visualize_atoms(qc_atoms, ecp_atoms, pc_atoms)\n",
    "\n",
    "# Now display the views\n",
    "display(view_qc, view_ecp, view_pc)\n",
    "\n"
   ]
  },
  {
   "cell_type": "code",
   "execution_count": null,
   "id": "5c90354c-f91f-4c94-b09b-d5d700121db6",
   "metadata": {},
   "outputs": [],
   "source": []
  }
 ],
 "metadata": {
  "kernelspec": {
   "display_name": "Python 3 (ipykernel)",
   "language": "python",
   "name": "python3"
  },
  "language_info": {
   "codemirror_mode": {
    "name": "ipython",
    "version": 3
   },
   "file_extension": ".py",
   "mimetype": "text/x-python",
   "name": "python",
   "nbconvert_exporter": "python",
   "pygments_lexer": "ipython3",
   "version": "3.12.3"
  }
 },
 "nbformat": 4,
 "nbformat_minor": 5
}
