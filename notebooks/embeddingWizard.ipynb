{
 "cells": [
  {
   "cell_type": "code",
   "execution_count": 1,
   "id": "adc2511e-c16e-464e-a520-ed737c5dd43b",
   "metadata": {},
   "outputs": [
    {
     "data": {
      "application/vnd.jupyter.widget-view+json": {
       "model_id": "8e69f5f5aaeb40f3bffada9b0ad8c386",
       "version_major": 2,
       "version_minor": 0
      },
      "text/plain": []
     },
     "metadata": {},
     "output_type": "display_data"
    }
   ],
   "source": [
    "import sys\n",
    "import os\n",
    "from IPython.display import display\n",
    "import ipywidgets as widgets\n",
    "import nglview as nv\n",
    "from ase.io import write\n",
    "from ase.visualize import view\n",
    "from ase import Atoms\n",
    "from ase.io import read, write\n",
    "from ase.build import make_supercell\n",
    "import numpy as np\n",
    "import nglview as nv\n",
    "from IPython.display import display, HTML\n",
    "\n",
    "\n",
    "sys.path.append(os.path.join(os.getcwd(), '..', 'src'))\n",
    "\n",
    "# Now import the SupercellCreator class\n",
    "from supercell_creator import SupercellCreator\n",
    "from utils import visualize_atoms"
   ]
  },
  {
   "cell_type": "code",
   "execution_count": 2,
   "id": "08dd680d-1546-4c25-9e47-c7d8a39ba044",
   "metadata": {},
   "outputs": [],
   "source": [
    "# Define the path to the CIF file\n",
    "cif_file_path = os.path.join(os.getcwd(), '..', 'data', 'TiO2_mp-390_conventional_standard.cif')\n",
    "\n",
    "# Create an instance of SupercellCreator\n",
    "supercell_creator = SupercellCreator(cif_file_path, 8, 8, 4)\n"
   ]
  },
  {
   "cell_type": "code",
   "execution_count": 3,
   "id": "bbe99c43-a40e-4c9c-b37d-260241d6842d",
   "metadata": {},
   "outputs": [
    {
     "name": "stdout",
     "output_type": "stream",
     "text": [
      "QC region: 21 atoms\n",
      "Individual counts: {'Ti': 7, 'O': 14}\n",
      "ECP region: 151 atoms\n",
      "Individual counts: {'O': 103, 'Ti': 48}\n",
      "PC region: 2900 atoms\n",
      "Individual counts: {'Ti': 969, 'O': 1931}\n"
     ]
    }
   ],
   "source": [
    "qc_atoms, ecp_atoms, pc_atoms = supercell_creator.get_atoms_in_layers()"
   ]
  },
  {
   "cell_type": "code",
   "execution_count": 4,
   "id": "2ec74fc6-9355-4b71-bacf-c8593f57fa9b",
   "metadata": {},
   "outputs": [
    {
     "data": {
      "application/vnd.jupyter.widget-view+json": {
       "model_id": "0a47cda5e7c945bbab9cb164d108905a",
       "version_major": 2,
       "version_minor": 0
      },
      "text/plain": [
       "NGLWidget()"
      ]
     },
     "metadata": {},
     "output_type": "display_data"
    },
    {
     "data": {
      "application/vnd.jupyter.widget-view+json": {
       "model_id": "49419ce6b45744b498d83baa38a7a69b",
       "version_major": 2,
       "version_minor": 0
      },
      "text/plain": [
       "NGLWidget()"
      ]
     },
     "metadata": {},
     "output_type": "display_data"
    },
    {
     "data": {
      "application/vnd.jupyter.widget-view+json": {
       "model_id": "978717e3118e40c39ac95d640b01c887",
       "version_major": 2,
       "version_minor": 0
      },
      "text/plain": [
       "NGLWidget()"
      ]
     },
     "metadata": {},
     "output_type": "display_data"
    }
   ],
   "source": [
    "view_qc, view_ecp, view_pc = visualize_atoms(qc_atoms, ecp_atoms, pc_atoms)\n",
    "\n",
    "# Now display the views\n",
    "display(view_qc, view_ecp, view_pc)\n",
    "\n"
   ]
  },
  {
   "cell_type": "code",
   "execution_count": null,
   "id": "5c90354c-f91f-4c94-b09b-d5d700121db6",
   "metadata": {},
   "outputs": [],
   "source": []
  }
 ],
 "metadata": {
  "kernelspec": {
   "display_name": "Python 3 (ipykernel)",
   "language": "python",
   "name": "python3"
  },
  "language_info": {
   "codemirror_mode": {
    "name": "ipython",
    "version": 3
   },
   "file_extension": ".py",
   "mimetype": "text/x-python",
   "name": "python",
   "nbconvert_exporter": "python",
   "pygments_lexer": "ipython3",
   "version": "3.12.6"
  }
 },
 "nbformat": 4,
 "nbformat_minor": 5
}
