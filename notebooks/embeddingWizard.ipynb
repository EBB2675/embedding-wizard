{
 "cells": [
  {
   "cell_type": "code",
   "execution_count": null,
   "id": "adc2511e-c16e-464e-a520-ed737c5dd43b",
   "metadata": {},
   "outputs": [],
   "source": [
    "import sys\n",
    "import os\n",
    "from IPython.display import display\n",
    "import ipywidgets as widgets\n",
    "import nglview as nv\n",
    "from ase.visualize import view\n",
    "from ase import Atoms\n",
    "from ase.io import read, write\n",
    "from ase.build import make_supercell\n",
    "import numpy as np\n",
    "import nglview as nv\n",
    "from IPython.display import display, HTML\n",
    "from collections import Counter\n",
    "\n",
    "\n",
    "sys.path.append(os.path.join(os.getcwd(), '..', 'src'))\n",
    "\n",
    "# Now import the SupercellCreator class\n",
    "from supercell_creator import SupercellCreator\n",
    "from utils import visualize_atoms"
   ]
  },
  {
   "cell_type": "code",
   "execution_count": null,
   "id": "08dd680d-1546-4c25-9e47-c7d8a39ba044",
   "metadata": {},
   "outputs": [],
   "source": [
    "# Define the path to the CIF file\n",
    "cif_file_path = os.path.join(os.getcwd(), '..', 'data', 'ZrCl4.cif')\n",
    "\n",
    "# Create an instance of SupercellCreator\n",
    "supercell_creator = SupercellCreator(cif_file_path, 8, 8, 4)\n"
   ]
  },
  {
   "cell_type": "code",
   "execution_count": null,
   "id": "64af5119-bd59-45fd-a504-403791cd3719",
   "metadata": {},
   "outputs": [],
   "source": [
    "charge_dict = {\n",
    "        'Zr': +4,\n",
    "        'Cl': -1\n",
    "    }"
   ]
  },
  {
   "cell_type": "code",
   "execution_count": null,
   "id": "bbe99c43-a40e-4c9c-b37d-260241d6842d",
   "metadata": {},
   "outputs": [],
   "source": [
    "qc_atoms, ecp_atoms, pc_atoms = supercell_creator.get_atoms_in_layers(charge_dict)"
   ]
  },
  {
   "cell_type": "code",
   "execution_count": null,
   "id": "2ec74fc6-9355-4b71-bacf-c8593f57fa9b",
   "metadata": {},
   "outputs": [],
   "source": [
    "view_qc, view_ecp, view_pc = visualize_atoms(qc_atoms, ecp_atoms, pc_atoms)\n",
    "\n",
    "# Now display the views\n",
    "display(view_qc, view_ecp, view_pc)\n",
    "\n",
    "# Output the counts\n",
    "print(f\"QC region: {len(qc_atoms)} atoms\")\n",
    "print(f\"ECP region: {len(ecp_atoms)} atoms\")\n",
    "print(f\"PC region: {len(pc_atoms)} atoms\")\n"
   ]
  },
  {
   "cell_type": "code",
   "execution_count": null,
   "id": "4ab4189f-3213-4ef9-98be-22e3751e9357",
   "metadata": {},
   "outputs": [],
   "source": [
    "creator2 = SupercellCreator(cif_file=cif_file_path, x_scaling=2, y_scaling=2, z_scaling=2)\n"
   ]
  },
  {
   "cell_type": "code",
   "execution_count": null,
   "id": "2f04bc0e-25b4-4e5c-818e-25bd18e382c2",
   "metadata": {},
   "outputs": [],
   "source": [
    "view_widget = creator2.display_molecule_in_unit_cell()\n",
    "view_widget"
   ]
  },
  {
   "cell_type": "code",
   "execution_count": null,
   "id": "627ccf24-301b-4b3e-85c2-716d8fb915ca",
   "metadata": {},
   "outputs": [],
   "source": [
    "# Example usage of expand_supercell_based_on_radius\n",
    "radius = 15.0  # Specify the radius you want to use\n",
    "expanded_view_widget = creator2.expand_supercell_based_on_radius(radius)\n",
    "expanded_view_widget  # This should display the NGLView widget for the expanded supercell\n"
   ]
  },
  {
   "cell_type": "code",
   "execution_count": null,
   "id": "504ca49b-d4d3-4136-b584-5ab723236d93",
   "metadata": {},
   "outputs": [],
   "source": [
    "charge_dict = {\n",
    "    'Zr': +4,\n",
    "    'Cl': -1\n",
    "}"
   ]
  },
  {
   "cell_type": "code",
   "execution_count": null,
   "id": "a5b72463-b022-43f0-bc18-89b690f87b55",
   "metadata": {},
   "outputs": [],
   "source": [
    "total_charges = supercell_creator.calculate_total_charge(charge_dict)\n",
    "\n",
    "print(\"Total Charges:\")\n",
    "print(f\"QC Layer: {total_charges['QC']}\")\n",
    "print(f\"ECP Layer: {total_charges['ECP']}\")\n",
    "print(f\"PC Layer: {total_charges['PC']}\")"
   ]
  },
  {
   "cell_type": "code",
   "execution_count": null,
   "id": "7221234e-4ba8-4e13-846d-075949e9d122",
   "metadata": {},
   "outputs": [],
   "source": []
  }
 ],
 "metadata": {
  "kernelspec": {
   "display_name": "Python 3 (ipykernel)",
   "language": "python",
   "name": "python3"
  },
  "language_info": {
   "codemirror_mode": {
    "name": "ipython",
    "version": 3
   },
   "file_extension": ".py",
   "mimetype": "text/x-python",
   "name": "python",
   "nbconvert_exporter": "python",
   "pygments_lexer": "ipython3",
   "version": "3.12.7"
  }
 },
 "nbformat": 4,
 "nbformat_minor": 5
}
